{
 "metadata": {
  "language_info": {
   "codemirror_mode": {
    "name": "ipython",
    "version": 3
   },
   "file_extension": ".py",
   "mimetype": "text/x-python",
   "name": "python",
   "nbconvert_exporter": "python",
   "pygments_lexer": "ipython3",
   "version": "3.7.9-final"
  },
  "orig_nbformat": 2,
  "kernelspec": {
   "name": "python3",
   "display_name": "Python 3.7.9 64-bit ('tf': conda)",
   "metadata": {
    "interpreter": {
     "hash": "3735d4afffe96b1302b1f06e99d3d76355ad94e87a2445fcdbb21705c1921570"
    }
   }
  }
 },
 "nbformat": 4,
 "nbformat_minor": 2,
 "cells": [
  {
   "cell_type": "code",
   "execution_count": 329,
   "metadata": {},
   "outputs": [
    {
     "output_type": "execute_result",
     "data": {
      "text/plain": [
       "   age        job  marital    education  default housing loan    contact  \\\n",
       "0   56  housemaid  married     basic.4y       no      no   no  telephone   \n",
       "1   57   services  married  high.school  unknown      no   no  telephone   \n",
       "2   37   services  married  high.school       no     yes   no  telephone   \n",
       "3   40     admin.  married     basic.6y       no      no   no  telephone   \n",
       "4   56   services  married  high.school       no      no  yes  telephone   \n",
       "\n",
       "  month day_of_week  ...  campaign  pdays  previous     poutcome emp.var.rate  \\\n",
       "0   may         mon  ...         1    999         0  nonexistent          1.1   \n",
       "1   may         mon  ...         1    999         0  nonexistent          1.1   \n",
       "2   may         mon  ...         1    999         0  nonexistent          1.1   \n",
       "3   may         mon  ...         1    999         0  nonexistent          1.1   \n",
       "4   may         mon  ...         1    999         0  nonexistent          1.1   \n",
       "\n",
       "   cons.price.idx  cons.conf.idx  euribor3m  nr.employed   y  \n",
       "0          93.994          -36.4      4.857       5191.0  no  \n",
       "1          93.994          -36.4      4.857       5191.0  no  \n",
       "2          93.994          -36.4      4.857       5191.0  no  \n",
       "3          93.994          -36.4      4.857       5191.0  no  \n",
       "4          93.994          -36.4      4.857       5191.0  no  \n",
       "\n",
       "[5 rows x 21 columns]"
      ],
      "text/html": "<div>\n<style scoped>\n    .dataframe tbody tr th:only-of-type {\n        vertical-align: middle;\n    }\n\n    .dataframe tbody tr th {\n        vertical-align: top;\n    }\n\n    .dataframe thead th {\n        text-align: right;\n    }\n</style>\n<table border=\"1\" class=\"dataframe\">\n  <thead>\n    <tr style=\"text-align: right;\">\n      <th></th>\n      <th>age</th>\n      <th>job</th>\n      <th>marital</th>\n      <th>education</th>\n      <th>default</th>\n      <th>housing</th>\n      <th>loan</th>\n      <th>contact</th>\n      <th>month</th>\n      <th>day_of_week</th>\n      <th>...</th>\n      <th>campaign</th>\n      <th>pdays</th>\n      <th>previous</th>\n      <th>poutcome</th>\n      <th>emp.var.rate</th>\n      <th>cons.price.idx</th>\n      <th>cons.conf.idx</th>\n      <th>euribor3m</th>\n      <th>nr.employed</th>\n      <th>y</th>\n    </tr>\n  </thead>\n  <tbody>\n    <tr>\n      <th>0</th>\n      <td>56</td>\n      <td>housemaid</td>\n      <td>married</td>\n      <td>basic.4y</td>\n      <td>no</td>\n      <td>no</td>\n      <td>no</td>\n      <td>telephone</td>\n      <td>may</td>\n      <td>mon</td>\n      <td>...</td>\n      <td>1</td>\n      <td>999</td>\n      <td>0</td>\n      <td>nonexistent</td>\n      <td>1.1</td>\n      <td>93.994</td>\n      <td>-36.4</td>\n      <td>4.857</td>\n      <td>5191.0</td>\n      <td>no</td>\n    </tr>\n    <tr>\n      <th>1</th>\n      <td>57</td>\n      <td>services</td>\n      <td>married</td>\n      <td>high.school</td>\n      <td>unknown</td>\n      <td>no</td>\n      <td>no</td>\n      <td>telephone</td>\n      <td>may</td>\n      <td>mon</td>\n      <td>...</td>\n      <td>1</td>\n      <td>999</td>\n      <td>0</td>\n      <td>nonexistent</td>\n      <td>1.1</td>\n      <td>93.994</td>\n      <td>-36.4</td>\n      <td>4.857</td>\n      <td>5191.0</td>\n      <td>no</td>\n    </tr>\n    <tr>\n      <th>2</th>\n      <td>37</td>\n      <td>services</td>\n      <td>married</td>\n      <td>high.school</td>\n      <td>no</td>\n      <td>yes</td>\n      <td>no</td>\n      <td>telephone</td>\n      <td>may</td>\n      <td>mon</td>\n      <td>...</td>\n      <td>1</td>\n      <td>999</td>\n      <td>0</td>\n      <td>nonexistent</td>\n      <td>1.1</td>\n      <td>93.994</td>\n      <td>-36.4</td>\n      <td>4.857</td>\n      <td>5191.0</td>\n      <td>no</td>\n    </tr>\n    <tr>\n      <th>3</th>\n      <td>40</td>\n      <td>admin.</td>\n      <td>married</td>\n      <td>basic.6y</td>\n      <td>no</td>\n      <td>no</td>\n      <td>no</td>\n      <td>telephone</td>\n      <td>may</td>\n      <td>mon</td>\n      <td>...</td>\n      <td>1</td>\n      <td>999</td>\n      <td>0</td>\n      <td>nonexistent</td>\n      <td>1.1</td>\n      <td>93.994</td>\n      <td>-36.4</td>\n      <td>4.857</td>\n      <td>5191.0</td>\n      <td>no</td>\n    </tr>\n    <tr>\n      <th>4</th>\n      <td>56</td>\n      <td>services</td>\n      <td>married</td>\n      <td>high.school</td>\n      <td>no</td>\n      <td>no</td>\n      <td>yes</td>\n      <td>telephone</td>\n      <td>may</td>\n      <td>mon</td>\n      <td>...</td>\n      <td>1</td>\n      <td>999</td>\n      <td>0</td>\n      <td>nonexistent</td>\n      <td>1.1</td>\n      <td>93.994</td>\n      <td>-36.4</td>\n      <td>4.857</td>\n      <td>5191.0</td>\n      <td>no</td>\n    </tr>\n  </tbody>\n</table>\n<p>5 rows × 21 columns</p>\n</div>"
     },
     "metadata": {},
     "execution_count": 329
    }
   ],
   "source": [
    "## Import and read the raw data\n",
    "import pandas as pd\n",
    "\n",
    "data = pd.read_csv('bank-additional-full.csv', delimiter=';')\n",
    "data.head()\n",
    "\n",
    "# Description of fields\n",
    "# age               numeric\n",
    "# job               categorical\n",
    "# marital           categorical\n",
    "# education         categorical\n",
    "# default           categorical\n",
    "# housing           categorical\n",
    "# loan              categorical\n",
    "# contact           categorical\n",
    "# month             categorical\n",
    "# day               categorical\n",
    "# duration          numeric\n",
    "# campaign          numeric\n",
    "# pdays             numeric\n",
    "# previous          numeric\n",
    "# poutcome          categorical\n",
    "# emp.var.rate      numeric\n",
    "# cons.price.idx    numeric\n",
    "# cons.conf.idx     numeric\n",
    "# euribor3m         numeric\n",
    "# nr.employed       numeric"
   ]
  },
  {
   "cell_type": "code",
   "execution_count": 330,
   "metadata": {},
   "outputs": [],
   "source": [
    "import numpy as np\n",
    "# from numpy import nan\n",
    "\n",
    "data['contacted_pdays'] = data['pdays']\n",
    "\n",
    "data.loc[data.contacted_pdays == 999, 'contacted_pdays'] = 0\n",
    "data.loc[data.contacted_pdays != 0, 'contacted_pdays'] = 1\n",
    "\n",
    "# Get values from pdays column,remove 999 values\n",
    "values = np.array(data.pdays)\n",
    "values = values[values != 999]\n",
    "median = np.median(values)\n",
    "\n",
    "# data.loc[data.pdays == 999, 'pdays'] = 999\n",
    "\n",
    "\n",
    "\n",
    "columns = ['age', 'job', 'marital', 'education', 'default', 'housing', 'loan',\n",
    "       'contact', 'month', 'day_of_week', 'duration', 'campaign', 'contacted_pdays', 'pdays',\n",
    "       'previous', 'poutcome', 'emp.var.rate', 'cons.price.idx',\n",
    "       'cons.conf.idx', 'euribor3m', 'nr.employed', 'y']\n",
    "\n",
    "data = data.reindex(columns=columns)"
   ]
  },
  {
   "cell_type": "code",
   "execution_count": 331,
   "metadata": {},
   "outputs": [],
   "source": [
    "import numpy as np\n",
    "# Encode the desired target (\"y\") to a binary representation\n",
    "from sklearn.preprocessing import OrdinalEncoder\n",
    "\n",
    "def encode_to_ordinal(array):\n",
    "    ordinal_encoder = OrdinalEncoder(dtype=np.int)\n",
    "    return ordinal_encoder.fit_transform(array.reshape(-1,1))\n",
    "\n",
    "ordinal_encoder = OrdinalEncoder()\n",
    "y_encoded = encode_to_ordinal(data.y.values)\n"
   ]
  },
  {
   "cell_type": "code",
   "execution_count": 332,
   "metadata": {},
   "outputs": [],
   "source": [
    "from sklearn.preprocessing import OneHotEncoder\n",
    "\n",
    "# One-hot encoding for categorical features\n",
    "one_hot_encoder = OneHotEncoder(dtype=np.int, sparse=True)\n",
    "\n",
    "# start assembling cleaned data\n",
    "clean_data = pd.DataFrame(one_hot_encoder.fit_transform(data[['job', 'marital','education','default','housing','loan','contact','month','day_of_week','poutcome']]).toarray())\n",
    "\n"
   ]
  },
  {
   "cell_type": "code",
   "execution_count": 333,
   "metadata": {},
   "outputs": [],
   "source": [
    "from sklearn.preprocessing import MinMaxScaler, StandardScaler\n",
    "\n",
    "scaler = MinMaxScaler()\n",
    "standard_scaler = StandardScaler()\n",
    "\n",
    "# Perform feature scaling on numerical values\n",
    "clean_data['age'] = scaler.fit_transform(data[['age']])\n",
    "clean_data['campaign'] = scaler.fit_transform(data[['campaign']])\n",
    "clean_data['contacted_pdays'] = data[['contacted_pdays']]\n",
    "clean_data['pdays'] = standard_scaler.fit_transform(data[['pdays']])\n",
    "clean_data['previous'] = scaler.fit_transform(data[['previous']])\n",
    "clean_data['emp.var.rate'] = scaler.fit_transform(data[['emp.var.rate']])\n",
    "clean_data['cons.price.idx'] = scaler.fit_transform(data[['cons.price.idx']])\n",
    "clean_data['cons.conf.idx'] = scaler.fit_transform(data[['cons.conf.idx']])\n",
    "clean_data['euribor3m'] = scaler.fit_transform(data[['euribor3m']])\n",
    "clean_data['nr.employed'] = scaler.fit_transform(data[['nr.employed']])\n",
    "clean_data['y'] = y_encoded"
   ]
  },
  {
   "cell_type": "code",
   "execution_count": 334,
   "metadata": {},
   "outputs": [],
   "source": [
    "## Generate histograms for numerical features in processed data\n",
    "# import matplotlib.pyplot as plt\n",
    "\n",
    "# %matplotlib inline\n",
    "\n",
    "# histogram_columns = clean_data[['age', 'campaign', 'contacted_pdays', 'pdays', 'previous', 'emp.var.rate', 'cons.price.idx', 'cons.conf.idx', 'euribor3m', 'nr.employed', 'y']]\n",
    "# histogram_columns.hist(bins=50, figsize=(20,15))"
   ]
  },
  {
   "cell_type": "code",
   "execution_count": 335,
   "metadata": {},
   "outputs": [],
   "source": [
    "## Search for correlations\n",
    "# correlation_matrix = clean_data.corr()\n",
    "# correlation_matrix['y'].sort_values(ascending = False)"
   ]
  },
  {
   "cell_type": "code",
   "execution_count": 336,
   "metadata": {},
   "outputs": [],
   "source": [
    "# Split training and test sets\n",
    "from sklearn.model_selection import train_test_split\n",
    "\n",
    "X = clean_data.loc[:, clean_data.columns != 'y']\n",
    "y = clean_data['y']\n",
    "\n",
    "X_train, X_test, y_train, y_test = train_test_split(X, y, test_size=0.33)\n"
   ]
  },
  {
   "cell_type": "code",
   "execution_count": 337,
   "metadata": {},
   "outputs": [],
   "source": [
    "import tensorflow as tf\n",
    "\n",
    "# Build and compile TF model\n",
    "model = tf.keras.Sequential([\n",
    "    tf.keras.layers.Dense(63, activation='relu'),\n",
    "    tf.keras.layers.Dense(2, activation='softmax')\n",
    "])\n",
    "\n",
    "model.compile(optimizer='adam', loss=tf.keras.losses.SparseCategoricalCrossentropy(), metrics=['accuracy'])\n"
   ]
  },
  {
   "cell_type": "code",
   "execution_count": 338,
   "metadata": {},
   "outputs": [
    {
     "output_type": "stream",
     "name": "stdout",
     "text": [
      "Epoch 1/10\n",
      "863/863 [==============================] - 1s 1ms/step - loss: 0.3291 - accuracy: 0.8713\n",
      "Epoch 2/10\n",
      "863/863 [==============================] - 1s 1ms/step - loss: 0.2738 - accuracy: 0.9005\n",
      "Epoch 3/10\n",
      "863/863 [==============================] - 1s 2ms/step - loss: 0.2744 - accuracy: 0.9002\n",
      "Epoch 4/10\n",
      "863/863 [==============================] - 1s 2ms/step - loss: 0.2707 - accuracy: 0.9010\n",
      "Epoch 5/10\n",
      "863/863 [==============================] - 1s 1ms/step - loss: 0.2729 - accuracy: 0.9010\n",
      "Epoch 6/10\n",
      "863/863 [==============================] - 1s 2ms/step - loss: 0.2693 - accuracy: 0.9018\n",
      "Epoch 7/10\n",
      "863/863 [==============================] - 1s 1ms/step - loss: 0.2658 - accuracy: 0.9050\n",
      "Epoch 8/10\n",
      "863/863 [==============================] - 1s 1ms/step - loss: 0.2623 - accuracy: 0.9054\n",
      "Epoch 9/10\n",
      "863/863 [==============================] - 1s 1ms/step - loss: 0.2623 - accuracy: 0.9056\n",
      "Epoch 10/10\n",
      "863/863 [==============================] - 1s 1ms/step - loss: 0.2593 - accuracy: 0.9071\n"
     ]
    },
    {
     "output_type": "execute_result",
     "data": {
      "text/plain": [
       "<tensorflow.python.keras.callbacks.History at 0x7fb58e013650>"
      ]
     },
     "metadata": {},
     "execution_count": 338
    }
   ],
   "source": [
    "model.fit(X_train, y_train, epochs=10)"
   ]
  },
  {
   "cell_type": "code",
   "execution_count": null,
   "metadata": {},
   "outputs": [],
   "source": []
  }
 ]
}